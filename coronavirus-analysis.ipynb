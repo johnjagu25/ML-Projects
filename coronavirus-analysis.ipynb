{
 "cells": [
  {
   "cell_type": "markdown",
   "metadata": {},
   "source": [
    "\n",
    "<div style='text-align:center;color:red;font-size:36px;margin:10px'> CORONA VIRUS ALERT !!!</div>\n",
    "<div style='margin-top:20px;text-align:center;font-size:16px'>A deadly virus spreading from Human to Human</div>\n",
    "    "
   ]
  },
  {
   "cell_type": "markdown",
   "metadata": {},
   "source": [
    "### Description\n",
    "<span style='background:yellow'>2019 Novel Coronavirus (2019-nCoV) is a virus (more specifically, a coronavirus) identified as the cause of an outbreak of respiratory illness first detected in Wuhan, China.</span> Early on, many of the patients in the outbreak in Wuhan, China reportedly had some link to a large seafood and animal market, suggesting animal-to-person spread. However, a growing number of patients reportedly have not had exposure to animal markets, indicating person-to-person spread is occurring. At this time, it’s unclear how easily or sustainably this virus is spreading between people - CDC\n",
    "\n",
    "This dataset has daily level information on the number of affected cases, deaths and recovery from 2019 novel coronavirus. Please note that this is a time series data and so the number of cases on any given day is the cumulative number.\n",
    "\n",
    "The data is available from 22 Jan, 2020."
   ]
  },
  {
   "cell_type": "code",
   "execution_count": 1,
   "metadata": {
    "_cell_guid": "b1076dfc-b9ad-4769-8c92-a6c4dae69d19",
    "_uuid": "8f2839f25d086af736a60e9eeb907d3b93b6e0e5"
   },
   "outputs": [],
   "source": [
    "import numpy as np \n",
    "import pandas as pd \n",
    "import matplotlib.pyplot as plt\n",
    "import seaborn as sns\n",
    "import matplotlib.gridspec as gridspec"
   ]
  },
  {
   "cell_type": "code",
   "execution_count": 2,
   "metadata": {
    "_cell_guid": "79c7e3d0-c299-4dcb-8224-4455121ee9b0",
    "_uuid": "d629ff2d2480ee46fbb7e2d37f6b5fab8052498a"
   },
   "outputs": [],
   "source": [
    "dataset = pd.read_csv(\"/kaggle/input/novel-corona-virus-2019-dataset/2019_nCoV_data.csv\")"
   ]
  },
  {
   "cell_type": "code",
   "execution_count": 3,
   "metadata": {},
   "outputs": [
    {
     "data": {
      "text/html": [
       "<div>\n",
       "<style scoped>\n",
       "    .dataframe tbody tr th:only-of-type {\n",
       "        vertical-align: middle;\n",
       "    }\n",
       "\n",
       "    .dataframe tbody tr th {\n",
       "        vertical-align: top;\n",
       "    }\n",
       "\n",
       "    .dataframe thead th {\n",
       "        text-align: right;\n",
       "    }\n",
       "</style>\n",
       "<table border=\"1\" class=\"dataframe\">\n",
       "  <thead>\n",
       "    <tr style=\"text-align: right;\">\n",
       "      <th></th>\n",
       "      <th>Sno</th>\n",
       "      <th>Date</th>\n",
       "      <th>Province/State</th>\n",
       "      <th>Country</th>\n",
       "      <th>Last Update</th>\n",
       "      <th>Confirmed</th>\n",
       "      <th>Deaths</th>\n",
       "      <th>Recovered</th>\n",
       "    </tr>\n",
       "  </thead>\n",
       "  <tbody>\n",
       "    <tr>\n",
       "      <th>0</th>\n",
       "      <td>1</td>\n",
       "      <td>01/22/2020 12:00:00</td>\n",
       "      <td>Anhui</td>\n",
       "      <td>China</td>\n",
       "      <td>01/22/2020 12:00:00</td>\n",
       "      <td>1.0</td>\n",
       "      <td>0.0</td>\n",
       "      <td>0.0</td>\n",
       "    </tr>\n",
       "    <tr>\n",
       "      <th>1</th>\n",
       "      <td>2</td>\n",
       "      <td>01/22/2020 12:00:00</td>\n",
       "      <td>Beijing</td>\n",
       "      <td>China</td>\n",
       "      <td>01/22/2020 12:00:00</td>\n",
       "      <td>14.0</td>\n",
       "      <td>0.0</td>\n",
       "      <td>0.0</td>\n",
       "    </tr>\n",
       "    <tr>\n",
       "      <th>2</th>\n",
       "      <td>3</td>\n",
       "      <td>01/22/2020 12:00:00</td>\n",
       "      <td>Chongqing</td>\n",
       "      <td>China</td>\n",
       "      <td>01/22/2020 12:00:00</td>\n",
       "      <td>6.0</td>\n",
       "      <td>0.0</td>\n",
       "      <td>0.0</td>\n",
       "    </tr>\n",
       "    <tr>\n",
       "      <th>3</th>\n",
       "      <td>4</td>\n",
       "      <td>01/22/2020 12:00:00</td>\n",
       "      <td>Fujian</td>\n",
       "      <td>China</td>\n",
       "      <td>01/22/2020 12:00:00</td>\n",
       "      <td>1.0</td>\n",
       "      <td>0.0</td>\n",
       "      <td>0.0</td>\n",
       "    </tr>\n",
       "    <tr>\n",
       "      <th>4</th>\n",
       "      <td>5</td>\n",
       "      <td>01/22/2020 12:00:00</td>\n",
       "      <td>Gansu</td>\n",
       "      <td>China</td>\n",
       "      <td>01/22/2020 12:00:00</td>\n",
       "      <td>0.0</td>\n",
       "      <td>0.0</td>\n",
       "      <td>0.0</td>\n",
       "    </tr>\n",
       "  </tbody>\n",
       "</table>\n",
       "</div>"
      ],
      "text/plain": [
       "   Sno                 Date Province/State Country          Last Update  \\\n",
       "0    1  01/22/2020 12:00:00          Anhui   China  01/22/2020 12:00:00   \n",
       "1    2  01/22/2020 12:00:00        Beijing   China  01/22/2020 12:00:00   \n",
       "2    3  01/22/2020 12:00:00      Chongqing   China  01/22/2020 12:00:00   \n",
       "3    4  01/22/2020 12:00:00         Fujian   China  01/22/2020 12:00:00   \n",
       "4    5  01/22/2020 12:00:00          Gansu   China  01/22/2020 12:00:00   \n",
       "\n",
       "   Confirmed  Deaths  Recovered  \n",
       "0        1.0     0.0        0.0  \n",
       "1       14.0     0.0        0.0  \n",
       "2        6.0     0.0        0.0  \n",
       "3        1.0     0.0        0.0  \n",
       "4        0.0     0.0        0.0  "
      ]
     },
     "execution_count": 3,
     "metadata": {},
     "output_type": "execute_result"
    }
   ],
   "source": [
    "dataset.head()"
   ]
  },
  {
   "cell_type": "code",
   "execution_count": 4,
   "metadata": {},
   "outputs": [],
   "source": [
    "dataset['Date'] = pd.to_datetime(dataset['Date'])\n",
    "dataset['Last Update'] = pd.to_datetime(dataset['Last Update'])"
   ]
  },
  {
   "cell_type": "code",
   "execution_count": 5,
   "metadata": {},
   "outputs": [],
   "source": [
    "dataset['Day'] = dataset['Date'].dt.day\n",
    "dataset['Month'] = dataset['Date'].dt.month\n",
    "dataset['Week'] = dataset['Date'].dt.week\n",
    "dataset['WeekDay'] = dataset['Date'].dt.weekday"
   ]
  },
  {
   "cell_type": "code",
   "execution_count": 6,
   "metadata": {},
   "outputs": [
    {
     "name": "stderr",
     "output_type": "stream",
     "text": [
      "/opt/conda/lib/python3.6/site-packages/matplotlib/figure.py:2144: UserWarning: This figure was using constrained_layout==True, but that is incompatible with subplots_adjust and or tight_layout: setting constrained_layout==False. \n",
      "  warnings.warn(\"This figure was using constrained_layout==True, \"\n"
     ]
    },
    {
     "data": {
      "image/png": "[encoded data removed]",
      "text/plain": [
       "<Figure size 1080x576 with 4 Axes>"
      ]
     },
     "metadata": {
      "needs_background": "light"
     },
     "output_type": "display_data"
    }
   ],
   "source": [
    "# Layout Customization\n",
    "displayed_cols = ['Confirmed','Deaths','Recovered']\n",
    "def multi_plot():\n",
    "    fig = plt.figure(constrained_layout=True, figsize=(15,8))\n",
    "    grid = gridspec.GridSpec(ncols=4, nrows=2, figure=fig)\n",
    "\n",
    "    ax1 = fig.add_subplot(grid[0, :2])\n",
    "    ax1.set_title('Daily Reports')\n",
    "    dataset.groupby(['Date']).sum()[displayed_cols].plot(ax=ax1)\n",
    "\n",
    "    ax2 = fig.add_subplot(grid[1, :2])\n",
    "    ax2.set_title('Monthly Reports')\n",
    "    dataset.groupby(['Month']).sum()[displayed_cols].plot(kind='bar',ax=ax2)\n",
    "    ax2.set_xticklabels(range(1,3))\n",
    "\n",
    "    ax3= fig.add_subplot(grid[0, 2:])\n",
    "    ax3.set_title('Weekly Reports')\n",
    "    weekdays = dataset.groupby('Week').nth(-1)['Date']\n",
    "    dataset[dataset['Date'].isin(weekdays)].groupby('Date')[displayed_cols].sum().plot(kind='bar',ax=ax3)\n",
    "    ax3.set_xticklabels(range(1,len(weekdays)+1))\n",
    "\n",
    "    ax4 = fig.add_subplot(grid[1, 2:])\n",
    "    ax4.set_title('WeekDays Reports')\n",
    "    dataset.groupby(['WeekDay']).sum()[displayed_cols].plot(ax=ax4)\n",
    "    plt.tight_layout()\n",
    "multi_plot()"
   ]
  },
  {
   "cell_type": "markdown",
   "metadata": {},
   "source": [
    "Graph shows that case count is <span style='color:red'> getting increased daily </span> which means that <span style='color:green'>latest case count = today case count + previous days case count</span>. So we will take the <span style='color:red'><b>last date</b></span> as the updated case count."
   ]
  },
  {
   "cell_type": "code",
   "execution_count": 7,
   "metadata": {},
   "outputs": [],
   "source": [
    "recent_date = dataset['Date'].iloc[-1]\n",
    "last_updated = dataset[dataset['Date'].dt.date == recent_date]"
   ]
  },
  {
   "cell_type": "code",
   "execution_count": 8,
   "metadata": {},
   "outputs": [
    {
     "data": {
      "text/plain": [
       "Timedelta('24 days 10:00:00')"
      ]
     },
     "execution_count": 8,
     "metadata": {},
     "output_type": "execute_result"
    }
   ],
   "source": [
    "# Reports given for the total number of days\n",
    "dataset['Date'].max() - dataset['Date'].min()"
   ]
  },
  {
   "cell_type": "code",
   "execution_count": 9,
   "metadata": {},
   "outputs": [
    {
     "data": {
      "text/plain": [
       "Mainland China          739\n",
       "US                      166\n",
       "Australia                76\n",
       "Canada                   53\n",
       "China                    34\n",
       "South Korea              25\n",
       "Japan                    25\n",
       "Thailand                 25\n",
       "Taiwan                   24\n",
       "Vietnam                  24\n",
       "Hong Kong                24\n",
       "Macau                    24\n",
       "Singapore                24\n",
       "Malaysia                 23\n",
       "France                   23\n",
       "Nepal                    22\n",
       "Cambodia                 20\n",
       "Germany                  20\n",
       "Sri Lanka                20\n",
       "Philippines              18\n",
       "Finland                  18\n",
       "United Arab Emirates     18\n",
       "Italy                    17\n",
       "India                    17\n",
       "UK                       16\n",
       "Sweden                   16\n",
       "Russia                   16\n",
       "Spain                    16\n",
       "Belgium                  12\n",
       "Others                    9\n",
       "Egypt                     2\n",
       "Brazil                    1\n",
       "Ivory Coast               1\n",
       "Mexico                    1\n",
       "Name: Country, dtype: int64"
      ]
     },
     "execution_count": 9,
     "metadata": {},
     "output_type": "execute_result"
    }
   ],
   "source": [
    "dataset['Country'].value_counts()"
   ]
  },
  {
   "cell_type": "markdown",
   "metadata": {},
   "source": [
    "<span style='color:blue'> Observation : </span>\n",
    "\n",
    "Mainland China and China has two separate entries. We'll combine the both\n",
    "\n",
    "<span style='background:yellow;color:black'> Description of this Dataset and also News Confirms that CoronaVirus spreaded from China</span> and from the above table after China. US,Australia and Canada has higher entries and geographically these countries are too far from China . It's weired We'll analyse it further"
   ]
  },
  {
   "cell_type": "code",
   "execution_count": 10,
   "metadata": {},
   "outputs": [],
   "source": [
    "dataset['Country'].replace({'Mainland China':'China'},inplace=True)"
   ]
  },
  {
   "cell_type": "code",
   "execution_count": 11,
   "metadata": {},
   "outputs": [
    {
     "data": {
      "text/html": [
       "<div>\n",
       "<style scoped>\n",
       "    .dataframe tbody tr th:only-of-type {\n",
       "        vertical-align: middle;\n",
       "    }\n",
       "\n",
       "    .dataframe tbody tr th {\n",
       "        vertical-align: top;\n",
       "    }\n",
       "\n",
       "    .dataframe thead th {\n",
       "        text-align: right;\n",
       "    }\n",
       "</style>\n",
       "<table border=\"1\" class=\"dataframe\">\n",
       "  <thead>\n",
       "    <tr style=\"text-align: right;\">\n",
       "      <th></th>\n",
       "      <th>Sno</th>\n",
       "      <th>Date</th>\n",
       "      <th>Province/State</th>\n",
       "      <th>Country</th>\n",
       "      <th>Last Update</th>\n",
       "      <th>Confirmed</th>\n",
       "      <th>Deaths</th>\n",
       "      <th>Recovered</th>\n",
       "      <th>Day</th>\n",
       "      <th>Month</th>\n",
       "      <th>Week</th>\n",
       "      <th>WeekDay</th>\n",
       "    </tr>\n",
       "  </thead>\n",
       "  <tbody>\n",
       "    <tr>\n",
       "      <th>0</th>\n",
       "      <td>1</td>\n",
       "      <td>2020-01-22 12:00:00</td>\n",
       "      <td>Anhui</td>\n",
       "      <td>China</td>\n",
       "      <td>2020-01-22 12:00:00</td>\n",
       "      <td>1.0</td>\n",
       "      <td>0.0</td>\n",
       "      <td>0.0</td>\n",
       "      <td>22</td>\n",
       "      <td>1</td>\n",
       "      <td>4</td>\n",
       "      <td>2</td>\n",
       "    </tr>\n",
       "    <tr>\n",
       "      <th>1</th>\n",
       "      <td>2</td>\n",
       "      <td>2020-01-22 12:00:00</td>\n",
       "      <td>Beijing</td>\n",
       "      <td>China</td>\n",
       "      <td>2020-01-22 12:00:00</td>\n",
       "      <td>14.0</td>\n",
       "      <td>0.0</td>\n",
       "      <td>0.0</td>\n",
       "      <td>22</td>\n",
       "      <td>1</td>\n",
       "      <td>4</td>\n",
       "      <td>2</td>\n",
       "    </tr>\n",
       "    <tr>\n",
       "      <th>2</th>\n",
       "      <td>3</td>\n",
       "      <td>2020-01-22 12:00:00</td>\n",
       "      <td>Chongqing</td>\n",
       "      <td>China</td>\n",
       "      <td>2020-01-22 12:00:00</td>\n",
       "      <td>6.0</td>\n",
       "      <td>0.0</td>\n",
       "      <td>0.0</td>\n",
       "      <td>22</td>\n",
       "      <td>1</td>\n",
       "      <td>4</td>\n",
       "      <td>2</td>\n",
       "    </tr>\n",
       "    <tr>\n",
       "      <th>3</th>\n",
       "      <td>4</td>\n",
       "      <td>2020-01-22 12:00:00</td>\n",
       "      <td>Fujian</td>\n",
       "      <td>China</td>\n",
       "      <td>2020-01-22 12:00:00</td>\n",
       "      <td>1.0</td>\n",
       "      <td>0.0</td>\n",
       "      <td>0.0</td>\n",
       "      <td>22</td>\n",
       "      <td>1</td>\n",
       "      <td>4</td>\n",
       "      <td>2</td>\n",
       "    </tr>\n",
       "    <tr>\n",
       "      <th>4</th>\n",
       "      <td>5</td>\n",
       "      <td>2020-01-22 12:00:00</td>\n",
       "      <td>Gansu</td>\n",
       "      <td>China</td>\n",
       "      <td>2020-01-22 12:00:00</td>\n",
       "      <td>0.0</td>\n",
       "      <td>0.0</td>\n",
       "      <td>0.0</td>\n",
       "      <td>22</td>\n",
       "      <td>1</td>\n",
       "      <td>4</td>\n",
       "      <td>2</td>\n",
       "    </tr>\n",
       "  </tbody>\n",
       "</table>\n",
       "</div>"
      ],
      "text/plain": [
       "   Sno                Date Province/State Country         Last Update  \\\n",
       "0    1 2020-01-22 12:00:00          Anhui   China 2020-01-22 12:00:00   \n",
       "1    2 2020-01-22 12:00:00        Beijing   China 2020-01-22 12:00:00   \n",
       "2    3 2020-01-22 12:00:00      Chongqing   China 2020-01-22 12:00:00   \n",
       "3    4 2020-01-22 12:00:00         Fujian   China 2020-01-22 12:00:00   \n",
       "4    5 2020-01-22 12:00:00          Gansu   China 2020-01-22 12:00:00   \n",
       "\n",
       "   Confirmed  Deaths  Recovered  Day  Month  Week  WeekDay  \n",
       "0        1.0     0.0        0.0   22      1     4        2  \n",
       "1       14.0     0.0        0.0   22      1     4        2  \n",
       "2        6.0     0.0        0.0   22      1     4        2  \n",
       "3        1.0     0.0        0.0   22      1     4        2  \n",
       "4        0.0     0.0        0.0   22      1     4        2  "
      ]
     },
     "execution_count": 11,
     "metadata": {},
     "output_type": "execute_result"
    }
   ],
   "source": [
    "dataset.head()"
   ]
  },
  {
   "cell_type": "code",
   "execution_count": 12,
   "metadata": {},
   "outputs": [
    {
     "data": {
      "text/plain": [
       "China                   493\n",
       "US                      138\n",
       "Australia                61\n",
       "Canada                   43\n",
       "France                   17\n",
       "Japan                    16\n",
       "Vietnam                  16\n",
       "South Korea              16\n",
       "Hong Kong                16\n",
       "Nepal                    16\n",
       "Taiwan                   16\n",
       "Macau                    16\n",
       "Malaysia                 16\n",
       "Singapore                16\n",
       "Thailand                 16\n",
       "India                    15\n",
       "Russia                   15\n",
       "Italy                    15\n",
       "Philippines              15\n",
       "Sweden                   15\n",
       "UK                       15\n",
       "Cambodia                 15\n",
       "United Arab Emirates     15\n",
       "Sri Lanka                15\n",
       "Finland                  15\n",
       "Spain                    15\n",
       "Germany                  15\n",
       "Belgium                  12\n",
       "Others                    9\n",
       "Egypt                     2\n",
       "Name: Country, dtype: int64"
      ]
     },
     "execution_count": 12,
     "metadata": {},
     "output_type": "execute_result"
    }
   ],
   "source": [
    "dataset[dataset['Date'] != dataset['Last Update']]['Country'].value_counts()"
   ]
  },
  {
   "cell_type": "markdown",
   "metadata": {},
   "source": [
    "<span> These many province/State were not updated yet with last date.</span>"
   ]
  },
  {
   "cell_type": "code",
   "execution_count": 13,
   "metadata": {},
   "outputs": [
    {
     "data": {
      "text/plain": [
       "Timestamp('2020-09-02 04:03:00')"
      ]
     },
     "execution_count": 13,
     "metadata": {},
     "output_type": "execute_result"
    }
   ],
   "source": [
    "dataset['Last Update'].max()"
   ]
  },
  {
   "cell_type": "code",
   "execution_count": 14,
   "metadata": {},
   "outputs": [
    {
     "data": {
      "text/plain": [
       "Sno                 0\n",
       "Date                0\n",
       "Province/State    418\n",
       "Country             0\n",
       "Last Update         0\n",
       "Confirmed           0\n",
       "Deaths              0\n",
       "Recovered           0\n",
       "Day                 0\n",
       "Month               0\n",
       "Week                0\n",
       "WeekDay             0\n",
       "dtype: int64"
      ]
     },
     "execution_count": 14,
     "metadata": {},
     "output_type": "execute_result"
    }
   ],
   "source": [
    "# missing values\n",
    "dataset.isnull().sum()"
   ]
  },
  {
   "cell_type": "code",
   "execution_count": 15,
   "metadata": {},
   "outputs": [
    {
     "name": "stdout",
     "output_type": "stream",
     "text": [
      "No of Confirmed cases globally 69032\n",
      "No of Recovered case globally 9395\n",
      "No of Death case globally 1666\n"
     ]
    }
   ],
   "source": [
    "confirmedCase = int(last_updated['Confirmed'].sum())\n",
    "deathCase = int(last_updated['Deaths'].sum())\n",
    "recoveredCase = int(last_updated['Recovered'].sum())\n",
    "print(\"No of Confirmed cases globally {}\".format(confirmedCase))\n",
    "print(\"No of Recovered case globally {}\".format(recoveredCase))\n",
    "print(\"No of Death case globally {}\".format(deathCase))"
   ]
  },
  {
   "cell_type": "code",
   "execution_count": 16,
   "metadata": {},
   "outputs": [
    {
     "name": "stdout",
     "output_type": "stream",
     "text": [
      "Top 5 Countries were affected most\n",
      "                Confirmed  Deaths  Recovered\n",
      "Country                                     \n",
      "Mainland China    68347.0  1662.0     9294.0\n",
      "Others              285.0     0.0        0.0\n",
      "Singapore            72.0     0.0       18.0\n",
      "Hong Kong            56.0     1.0        1.0\n",
      "Japan                43.0     1.0       12.0\n"
     ]
    }
   ],
   "source": [
    "top5 =  last_updated.groupby(['Country']).sum().nlargest(5,['Confirmed'])[displayed_cols]\n",
    "top5\n",
    "print(\"Top 5 Countries were affected most\")\n",
    "print(top5)"
   ]
  },
  {
   "cell_type": "markdown",
   "metadata": {},
   "source": [
    "<span style='color:blue'> Observation : </span>\n",
    "\n",
    "Though US,Canada and Australia has higher entries after China but they are not in the top 5 list\n"
   ]
  },
  {
   "cell_type": "code",
   "execution_count": 17,
   "metadata": {},
   "outputs": [
    {
     "data": {
      "image/png": "[encoded data removed]",
      "text/plain": [
       "<Figure size 864x432 with 1 Axes>"
      ]
     },
     "metadata": {
      "needs_background": "light"
     },
     "output_type": "display_data"
    }
   ],
   "source": [
    "plt.figure(figsize=(12,6))\n",
    "plt.xticks(rotation=90)\n",
    "plt.title(\"Top most 5 countries were affected by Coronavirus\")\n",
    "sns.barplot(x=top5.index,y='Confirmed',data=top5)\n",
    "plt.show()"
   ]
  },
  {
   "cell_type": "code",
   "execution_count": 18,
   "metadata": {},
   "outputs": [
    {
     "data": {
      "image/png": "[encoded data removed]",
      "text/plain": [
       "<Figure size 1080x432 with 1 Axes>"
      ]
     },
     "metadata": {
      "needs_background": "light"
     },
     "output_type": "display_data"
    }
   ],
   "source": [
    "plt.figure(figsize=(15,6))\n",
    "plt.title('Countries which has Confirmed cases')\n",
    "plt.xticks(rotation=90)\n",
    "sns.barplot(x='Country',y='Confirmed',data=last_updated)\n",
    "plt.tight_layout()"
   ]
  },
  {
   "cell_type": "code",
   "execution_count": 19,
   "metadata": {},
   "outputs": [
    {
     "data": {
      "text/plain": [
       "<matplotlib.axes._subplots.AxesSubplot at 0x7ff0fa8f4e10>"
      ]
     },
     "execution_count": 19,
     "metadata": {},
     "output_type": "execute_result"
    },
    {
     "data": {
      "image/png": "[encoded data removed]",
      "text/plain": [
       "<Figure size 1080x432 with 1 Axes>"
      ]
     },
     "metadata": {
      "needs_background": "light"
     },
     "output_type": "display_data"
    }
   ],
   "source": [
    "plt.figure(figsize=(15,6))\n",
    "plt.title('Province/State which reported more than 1000 Confirmed case')\n",
    "plt.xticks(rotation=90)\n",
    "prvinc = last_updated\n",
    "prvincConfirmed = prvinc[prvinc['Confirmed']>1000]\n",
    "sns.barplot(data=prvincConfirmed, x='Province/State', y='Confirmed')"
   ]
  },
  {
   "cell_type": "code",
   "execution_count": 20,
   "metadata": {},
   "outputs": [
    {
     "data": {
      "text/plain": [
       "<matplotlib.axes._subplots.AxesSubplot at 0x7ff0faa342e8>"
      ]
     },
     "execution_count": 20,
     "metadata": {},
     "output_type": "execute_result"
    },
    {
     "data": {
      "image/png": "[encoded data removed]",
      "text/plain": [
       "<Figure size 1080x432 with 1 Axes>"
      ]
     },
     "metadata": {
      "needs_background": "light"
     },
     "output_type": "display_data"
    }
   ],
   "source": [
    "plt.figure(figsize=(15,6))\n",
    "plt.xticks(rotation=90)\n",
    "plt.title('Province/State has reported Deaths case')\n",
    "sns.barplot(data=last_updated, x='Province/State', y='Deaths')"
   ]
  },
  {
   "cell_type": "markdown",
   "metadata": {},
   "source": [
    "Wikipedia says - In December 2019, a pneumonia(Coronavirus) outbreak was reported in Wuhan, China.  <b><span style='font-size:18px'> Wuhan is the capital of Hubei province.</span></b>"
   ]
  },
  {
   "cell_type": "code",
   "execution_count": 21,
   "metadata": {},
   "outputs": [
    {
     "name": "stdout",
     "output_type": "stream",
     "text": [
      "Countries their State which was affected and filed more than 100 Confirmed cases\n"
     ]
    },
    {
     "data": {
      "text/plain": [
       "Country\n",
       "China     24\n",
       "Others     1\n",
       "Name: Province/State, dtype: int64"
      ]
     },
     "execution_count": 21,
     "metadata": {},
     "output_type": "execute_result"
    }
   ],
   "source": [
    "prov100 = last_updated[last_updated['Confirmed']>100]['Province/State'].values\n",
    "print(\"Countries their State which was affected and filed more than 100 Confirmed cases\")\n",
    "dataset[dataset['Province/State'].isin(prov100)].groupby('Country')['Province/State'].apply(lambda x: len(list(np.unique(x)))).sort_values(ascending=False)"
   ]
  },
  {
   "cell_type": "code",
   "execution_count": 22,
   "metadata": {},
   "outputs": [
    {
     "data": {
      "text/plain": [
       "Country\n",
       "Mainland China    1662.0\n",
       "France               1.0\n",
       "Hong Kong            1.0\n",
       "Japan                1.0\n",
       "Philippines          1.0\n",
       "Name: Deaths, dtype: float64"
      ]
     },
     "execution_count": 22,
     "metadata": {},
     "output_type": "execute_result"
    }
   ],
   "source": [
    "last_updated.groupby(['Country']).sum().nlargest(5,['Deaths'])['Deaths']"
   ]
  },
  {
   "cell_type": "markdown",
   "metadata": {},
   "source": [
    "We'll analyse how other countries affected after China and Others(Cruis ship)."
   ]
  },
  {
   "cell_type": "code",
   "execution_count": 23,
   "metadata": {},
   "outputs": [
    {
     "data": {
      "text/html": [
       "<div>\n",
       "<style scoped>\n",
       "    .dataframe tbody tr th:only-of-type {\n",
       "        vertical-align: middle;\n",
       "    }\n",
       "\n",
       "    .dataframe tbody tr th {\n",
       "        vertical-align: top;\n",
       "    }\n",
       "\n",
       "    .dataframe thead th {\n",
       "        text-align: right;\n",
       "    }\n",
       "</style>\n",
       "<table border=\"1\" class=\"dataframe\">\n",
       "  <thead>\n",
       "    <tr style=\"text-align: right;\">\n",
       "      <th></th>\n",
       "      <th>Confirmed</th>\n",
       "      <th>Deaths</th>\n",
       "      <th>Recovered</th>\n",
       "    </tr>\n",
       "    <tr>\n",
       "      <th>Country</th>\n",
       "      <th></th>\n",
       "      <th></th>\n",
       "      <th></th>\n",
       "    </tr>\n",
       "  </thead>\n",
       "  <tbody>\n",
       "    <tr>\n",
       "      <th>Mainland China</th>\n",
       "      <td>68347.0</td>\n",
       "      <td>1662.0</td>\n",
       "      <td>9294.0</td>\n",
       "    </tr>\n",
       "    <tr>\n",
       "      <th>Singapore</th>\n",
       "      <td>72.0</td>\n",
       "      <td>0.0</td>\n",
       "      <td>18.0</td>\n",
       "    </tr>\n",
       "    <tr>\n",
       "      <th>Hong Kong</th>\n",
       "      <td>56.0</td>\n",
       "      <td>1.0</td>\n",
       "      <td>1.0</td>\n",
       "    </tr>\n",
       "    <tr>\n",
       "      <th>Japan</th>\n",
       "      <td>43.0</td>\n",
       "      <td>1.0</td>\n",
       "      <td>12.0</td>\n",
       "    </tr>\n",
       "    <tr>\n",
       "      <th>Thailand</th>\n",
       "      <td>33.0</td>\n",
       "      <td>0.0</td>\n",
       "      <td>12.0</td>\n",
       "    </tr>\n",
       "  </tbody>\n",
       "</table>\n",
       "</div>"
      ],
      "text/plain": [
       "                Confirmed  Deaths  Recovered\n",
       "Country                                     \n",
       "Mainland China    68347.0  1662.0     9294.0\n",
       "Singapore            72.0     0.0       18.0\n",
       "Hong Kong            56.0     1.0        1.0\n",
       "Japan                43.0     1.0       12.0\n",
       "Thailand             33.0     0.0       12.0"
      ]
     },
     "execution_count": 23,
     "metadata": {},
     "output_type": "execute_result"
    }
   ],
   "source": [
    "last_updated[~last_updated['Country'].isin(['China','Others']) ].groupby(['Country']).sum()[displayed_cols].nlargest(5,['Confirmed'])"
   ]
  },
  {
   "cell_type": "code",
   "execution_count": 24,
   "metadata": {},
   "outputs": [
    {
     "data": {
      "text/html": [
       "<div>\n",
       "<style scoped>\n",
       "    .dataframe tbody tr th:only-of-type {\n",
       "        vertical-align: middle;\n",
       "    }\n",
       "\n",
       "    .dataframe tbody tr th {\n",
       "        vertical-align: top;\n",
       "    }\n",
       "\n",
       "    .dataframe thead th {\n",
       "        text-align: right;\n",
       "    }\n",
       "</style>\n",
       "<table border=\"1\" class=\"dataframe\">\n",
       "  <thead>\n",
       "    <tr style=\"text-align: right;\">\n",
       "      <th></th>\n",
       "      <th>Sno</th>\n",
       "      <th>Date</th>\n",
       "      <th>Province/State</th>\n",
       "      <th>Country</th>\n",
       "      <th>Last Update</th>\n",
       "      <th>Confirmed</th>\n",
       "      <th>Deaths</th>\n",
       "      <th>Recovered</th>\n",
       "      <th>Day</th>\n",
       "      <th>Month</th>\n",
       "      <th>Week</th>\n",
       "      <th>WeekDay</th>\n",
       "    </tr>\n",
       "  </thead>\n",
       "  <tbody>\n",
       "    <tr>\n",
       "      <th>1081</th>\n",
       "      <td>1082</td>\n",
       "      <td>2020-02-09 23:20:00</td>\n",
       "      <td>Diamond Princess cruise ship</td>\n",
       "      <td>Others</td>\n",
       "      <td>2020-02-09 06:13:11</td>\n",
       "      <td>64.0</td>\n",
       "      <td>0.0</td>\n",
       "      <td>0.0</td>\n",
       "      <td>9</td>\n",
       "      <td>2</td>\n",
       "      <td>6</td>\n",
       "      <td>6</td>\n",
       "    </tr>\n",
       "    <tr>\n",
       "      <th>1147</th>\n",
       "      <td>1148</td>\n",
       "      <td>2020-02-10 19:30:00</td>\n",
       "      <td>Diamond Princess cruise ship</td>\n",
       "      <td>Others</td>\n",
       "      <td>2020-02-10 16:03:12</td>\n",
       "      <td>135.0</td>\n",
       "      <td>0.0</td>\n",
       "      <td>0.0</td>\n",
       "      <td>10</td>\n",
       "      <td>2</td>\n",
       "      <td>7</td>\n",
       "      <td>0</td>\n",
       "    </tr>\n",
       "    <tr>\n",
       "      <th>1219</th>\n",
       "      <td>1220</td>\n",
       "      <td>2020-02-11 20:44:00</td>\n",
       "      <td>Diamond Princess cruise ship</td>\n",
       "      <td>Others</td>\n",
       "      <td>2020-02-10 16:03:12</td>\n",
       "      <td>135.0</td>\n",
       "      <td>0.0</td>\n",
       "      <td>0.0</td>\n",
       "      <td>11</td>\n",
       "      <td>2</td>\n",
       "      <td>7</td>\n",
       "      <td>1</td>\n",
       "    </tr>\n",
       "    <tr>\n",
       "      <th>1290</th>\n",
       "      <td>1291</td>\n",
       "      <td>2020-02-12 22:00:00</td>\n",
       "      <td>Diamond Princess cruise ship</td>\n",
       "      <td>Others</td>\n",
       "      <td>2020-02-12 04:23:38</td>\n",
       "      <td>175.0</td>\n",
       "      <td>0.0</td>\n",
       "      <td>0.0</td>\n",
       "      <td>12</td>\n",
       "      <td>2</td>\n",
       "      <td>7</td>\n",
       "      <td>2</td>\n",
       "    </tr>\n",
       "    <tr>\n",
       "      <th>1363</th>\n",
       "      <td>1364</td>\n",
       "      <td>2020-02-13 21:15:00</td>\n",
       "      <td>Diamond Princess cruise ship</td>\n",
       "      <td>Others</td>\n",
       "      <td>2020-02-14 00:13:23</td>\n",
       "      <td>218.0</td>\n",
       "      <td>0.0</td>\n",
       "      <td>0.0</td>\n",
       "      <td>13</td>\n",
       "      <td>2</td>\n",
       "      <td>7</td>\n",
       "      <td>3</td>\n",
       "    </tr>\n",
       "    <tr>\n",
       "      <th>1437</th>\n",
       "      <td>1438</td>\n",
       "      <td>2020-02-14 22:00:00</td>\n",
       "      <td>Diamond Princess cruise ship</td>\n",
       "      <td>Others</td>\n",
       "      <td>2020-02-14 00:13:23</td>\n",
       "      <td>218.0</td>\n",
       "      <td>0.0</td>\n",
       "      <td>0.0</td>\n",
       "      <td>14</td>\n",
       "      <td>2</td>\n",
       "      <td>7</td>\n",
       "      <td>4</td>\n",
       "    </tr>\n",
       "    <tr>\n",
       "      <th>1510</th>\n",
       "      <td>1511</td>\n",
       "      <td>2020-02-15 22:00:00</td>\n",
       "      <td>Diamond Princess cruise ship</td>\n",
       "      <td>Others</td>\n",
       "      <td>2020-02-15 17:03:04</td>\n",
       "      <td>285.0</td>\n",
       "      <td>0.0</td>\n",
       "      <td>0.0</td>\n",
       "      <td>15</td>\n",
       "      <td>2</td>\n",
       "      <td>7</td>\n",
       "      <td>5</td>\n",
       "    </tr>\n",
       "  </tbody>\n",
       "</table>\n",
       "</div>"
      ],
      "text/plain": [
       "       Sno                Date                Province/State Country  \\\n",
       "1081  1082 2020-02-09 23:20:00  Diamond Princess cruise ship  Others   \n",
       "1147  1148 2020-02-10 19:30:00  Diamond Princess cruise ship  Others   \n",
       "1219  1220 2020-02-11 20:44:00  Diamond Princess cruise ship  Others   \n",
       "1290  1291 2020-02-12 22:00:00  Diamond Princess cruise ship  Others   \n",
       "1363  1364 2020-02-13 21:15:00  Diamond Princess cruise ship  Others   \n",
       "1437  1438 2020-02-14 22:00:00  Diamond Princess cruise ship  Others   \n",
       "1510  1511 2020-02-15 22:00:00  Diamond Princess cruise ship  Others   \n",
       "\n",
       "             Last Update  Confirmed  Deaths  Recovered  Day  Month  Week  \\\n",
       "1081 2020-02-09 06:13:11       64.0     0.0        0.0    9      2     6   \n",
       "1147 2020-02-10 16:03:12      135.0     0.0        0.0   10      2     7   \n",
       "1219 2020-02-10 16:03:12      135.0     0.0        0.0   11      2     7   \n",
       "1290 2020-02-12 04:23:38      175.0     0.0        0.0   12      2     7   \n",
       "1363 2020-02-14 00:13:23      218.0     0.0        0.0   13      2     7   \n",
       "1437 2020-02-14 00:13:23      218.0     0.0        0.0   14      2     7   \n",
       "1510 2020-02-15 17:03:04      285.0     0.0        0.0   15      2     7   \n",
       "\n",
       "      WeekDay  \n",
       "1081        6  \n",
       "1147        0  \n",
       "1219        1  \n",
       "1290        2  \n",
       "1363        3  \n",
       "1437        4  \n",
       "1510        5  "
      ]
     },
     "execution_count": 24,
     "metadata": {},
     "output_type": "execute_result"
    }
   ],
   "source": [
    "confCaseOnShip = dataset[(dataset['Province/State']!=np.nan) & (dataset['Province/State'].str.contains(\"ship\"))]\n",
    "confCaseOnShip"
   ]
  },
  {
   "cell_type": "markdown",
   "metadata": {},
   "source": [
    "Princess Cruises confirms there are 2,666 guests and 1,045 crew currently onboard covering a range of nationalities\n",
    "Totally 3711 members are there in ship\n",
    " <span style='color:green'>Out of <b>3711 </b></span>, <span style='color:red'><b>285</b></span> were confirmed"
   ]
  },
  {
   "cell_type": "code",
   "execution_count": 25,
   "metadata": {},
   "outputs": [
    {
     "name": "stdout",
     "output_type": "stream",
     "text": [
      "7.68% of people were affected in Cruise ship\n"
     ]
    }
   ],
   "source": [
    "print(\"{}% of people were affected in Cruise ship\".format(round((285/3711 ) * 100,2)))"
   ]
  },
  {
   "cell_type": "code",
   "execution_count": 26,
   "metadata": {},
   "outputs": [
    {
     "data": {
      "text/plain": [
       "<matplotlib.axes._subplots.AxesSubplot at 0x7ff0faa4a2b0>"
      ]
     },
     "execution_count": 26,
     "metadata": {},
     "output_type": "execute_result"
    },
    {
     "data": {
      "image/png": "[encoded data removed]",
      "text/plain": [
       "<Figure size 432x288 with 1 Axes>"
      ]
     },
     "metadata": {
      "needs_background": "light"
     },
     "output_type": "display_data"
    }
   ],
   "source": [
    "confCaseOnShip['Confirmed'].plot()"
   ]
  },
  {
   "cell_type": "markdown",
   "metadata": {},
   "source": [
    "#### <span style='background:yellow'>confirmed case counts are increasing day by day in cruise ship</span>"
   ]
  },
  {
   "cell_type": "markdown",
   "metadata": {},
   "source": [
    "Below Content taken from this article https://www.quora.com/What-is-the-Coronavirus-What-are-its-symptoms-How-do-you-prevent-the-Coronavirus answered by puneet aggarwal.\n",
    "\n",
    "To prevent Coronavirus from spreading follow the below\n",
    "\n",
    "1. Avoid using towels/soaps/ clothes used by any other person.\n",
    "\n",
    "2. Keep cleaning your hands with a sanitizer especially after travelling in public transport like trains/ buses/ the metro etc.\n",
    "3. <span style='background:yellow'>Keep yourself away from crowded areas.<span> \n",
    "4. <span style='background:yellow'>Always insist on wearing a mask especially use them for children.</span>\n",
    "5. Drink only hot water\n",
    "\n",
    "6. Keep your home, kitchen and bathroom dry. Viruses thrive in musty environments.\n",
    "\n",
    "7. Have only fresh, hot, home cooked food."
   ]
  },
  {
   "cell_type": "markdown",
   "metadata": {},
   "source": [
    "Follow the highlighted steps, only if Coronavirus spreading in your Area and Other steps would help to have Healthy Life."
   ]
  }
 ],
 "metadata": {
  "kernelspec": {
   "display_name": "Python 3",
   "language": "python",
   "name": "python3"
  },
  "language_info": {
   "codemirror_mode": {
    "name": "ipython",
    "version": 3
   },
   "file_extension": ".py",
   "mimetype": "text/x-python",
   "name": "python",
   "nbconvert_exporter": "python",
   "pygments_lexer": "ipython3",
   "version": "3.6.5"
  }
 },
 "nbformat": 4,
 "nbformat_minor": 1
}

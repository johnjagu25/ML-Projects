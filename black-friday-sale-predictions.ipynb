{
 "cells": [
  {
   "cell_type": "markdown",
   "metadata": {},
   "source": [
    "### Problem Description : \n",
    "   A retail company “ABC Private Limited” wants to understand the customer purchase behaviour(specifically, purchase amount) \n",
    "against various products of different categories. They have shared purchase summary of various customers for selected \n",
    "high volume products from last month.\n",
    "\n",
    "   The data set also contains customer demographics (age, gender, marital status, city_type, stay_in_current_city), \n",
    "product details (product_id and product category) and Total purchase_amount from last month.\n",
    "\n",
    "   Now, they want to build a model to predict the purchase amount of customer against various products which will help \n",
    "them to create personalized offer for customers against different products."
   ]
  },
  {
   "cell_type": "markdown",
   "metadata": {},
   "source": [
    "\n",
    "More data beats clever algorithms, but better data beats more data\n",
    "-Peter Norvig"
   ]
  },
  {
   "cell_type": "markdown",
   "metadata": {},
   "source": [
    "#### Goal\n",
    "    Our Goal is to predict the purchase amount a client is expected to spend on this day."
   ]
  },
  {
   "cell_type": "code",
   "execution_count": 1,
   "metadata": {},
   "outputs": [],
   "source": [
    "import pandas as pd\n",
    "import numpy as np\n",
    "\n",
    "import matplotlib.pyplot as plt\n",
    "import seaborn as sns\n",
    "\n",
    "import warnings\n",
    "warnings.filterwarnings(action=\"ignore\")"
   ]
  },
  {
   "cell_type": "code",
   "execution_count": 2,
   "metadata": {},
   "outputs": [],
   "source": [
    "train = pd.read_csv(\"/kaggle/input/black-friday-predictions/train.csv\")\n",
    "test = pd.read_csv(\"/kaggle/input/black-friday-predictions/test.csv\")"
   ]
  },
  {
   "cell_type": "code",
   "execution_count": 3,
   "metadata": {},
   "outputs": [
    {
     "name": "stdout",
     "output_type": "stream",
     "text": [
      "(550068, 12)\n",
      "(233599, 11)\n"
     ]
    }
   ],
   "source": [
    "print(train.shape)\n",
    "print(test.shape)\n"
   ]
  },
  {
   "cell_type": "code",
   "execution_count": 4,
   "metadata": {},
   "outputs": [
    {
     "data": {
      "text/html": [
       "<div>\n",
       "<style scoped>\n",
       "    .dataframe tbody tr th:only-of-type {\n",
       "        vertical-align: middle;\n",
       "    }\n",
       "\n",
       "    .dataframe tbody tr th {\n",
       "        vertical-align: top;\n",
       "    }\n",
       "\n",
       "    .dataframe thead th {\n",
       "        text-align: right;\n",
       "    }\n",
       "</style>\n",
       "<table border=\"1\" class=\"dataframe\">\n",
       "  <thead>\n",
       "    <tr style=\"text-align: right;\">\n",
       "      <th></th>\n",
       "      <th>User_ID</th>\n",
       "      <th>Product_ID</th>\n",
       "      <th>Gender</th>\n",
       "      <th>Age</th>\n",
       "      <th>Occupation</th>\n",
       "      <th>City_Category</th>\n",
       "      <th>Stay_In_Current_City_Years</th>\n",
       "      <th>Marital_Status</th>\n",
       "      <th>Product_Category_1</th>\n",
       "      <th>Product_Category_2</th>\n",
       "      <th>Product_Category_3</th>\n",
       "      <th>Purchase</th>\n",
       "    </tr>\n",
       "  </thead>\n",
       "  <tbody>\n",
       "    <tr>\n",
       "      <th>0</th>\n",
       "      <td>1000001</td>\n",
       "      <td>P00069042</td>\n",
       "      <td>F</td>\n",
       "      <td>0-17</td>\n",
       "      <td>10</td>\n",
       "      <td>A</td>\n",
       "      <td>2</td>\n",
       "      <td>0</td>\n",
       "      <td>3</td>\n",
       "      <td>NaN</td>\n",
       "      <td>NaN</td>\n",
       "      <td>8370</td>\n",
       "    </tr>\n",
       "    <tr>\n",
       "      <th>1</th>\n",
       "      <td>1000001</td>\n",
       "      <td>P00248942</td>\n",
       "      <td>F</td>\n",
       "      <td>0-17</td>\n",
       "      <td>10</td>\n",
       "      <td>A</td>\n",
       "      <td>2</td>\n",
       "      <td>0</td>\n",
       "      <td>1</td>\n",
       "      <td>6.0</td>\n",
       "      <td>14.0</td>\n",
       "      <td>15200</td>\n",
       "    </tr>\n",
       "    <tr>\n",
       "      <th>2</th>\n",
       "      <td>1000001</td>\n",
       "      <td>P00087842</td>\n",
       "      <td>F</td>\n",
       "      <td>0-17</td>\n",
       "      <td>10</td>\n",
       "      <td>A</td>\n",
       "      <td>2</td>\n",
       "      <td>0</td>\n",
       "      <td>12</td>\n",
       "      <td>NaN</td>\n",
       "      <td>NaN</td>\n",
       "      <td>1422</td>\n",
       "    </tr>\n",
       "    <tr>\n",
       "      <th>3</th>\n",
       "      <td>1000001</td>\n",
       "      <td>P00085442</td>\n",
       "      <td>F</td>\n",
       "      <td>0-17</td>\n",
       "      <td>10</td>\n",
       "      <td>A</td>\n",
       "      <td>2</td>\n",
       "      <td>0</td>\n",
       "      <td>12</td>\n",
       "      <td>14.0</td>\n",
       "      <td>NaN</td>\n",
       "      <td>1057</td>\n",
       "    </tr>\n",
       "    <tr>\n",
       "      <th>4</th>\n",
       "      <td>1000002</td>\n",
       "      <td>P00285442</td>\n",
       "      <td>M</td>\n",
       "      <td>55+</td>\n",
       "      <td>16</td>\n",
       "      <td>C</td>\n",
       "      <td>4+</td>\n",
       "      <td>0</td>\n",
       "      <td>8</td>\n",
       "      <td>NaN</td>\n",
       "      <td>NaN</td>\n",
       "      <td>7969</td>\n",
       "    </tr>\n",
       "  </tbody>\n",
       "</table>\n",
       "</div>"
      ],
      "text/plain": [
       "   User_ID Product_ID Gender   Age  Occupation City_Category  \\\n",
       "0  1000001  P00069042      F  0-17          10             A   \n",
       "1  1000001  P00248942      F  0-17          10             A   \n",
       "2  1000001  P00087842      F  0-17          10             A   \n",
       "3  1000001  P00085442      F  0-17          10             A   \n",
       "4  1000002  P00285442      M   55+          16             C   \n",
       "\n",
       "  Stay_In_Current_City_Years  Marital_Status  Product_Category_1  \\\n",
       "0                          2               0                   3   \n",
       "1                          2               0                   1   \n",
       "2                          2               0                  12   \n",
       "3                          2               0                  12   \n",
       "4                         4+               0                   8   \n",
       "\n",
       "   Product_Category_2  Product_Category_3  Purchase  \n",
       "0                 NaN                 NaN      8370  \n",
       "1                 6.0                14.0     15200  \n",
       "2                 NaN                 NaN      1422  \n",
       "3                14.0                 NaN      1057  \n",
       "4                 NaN                 NaN      7969  "
      ]
     },
     "execution_count": 4,
     "metadata": {},
     "output_type": "execute_result"
    }
   ],
   "source": [
    "train.head()"
   ]
  },
  {
   "cell_type": "markdown",
   "metadata": {},
   "source": [
    "#### Observations\n",
    "- Occupation , Product_Category_1 , Product_Category_2, Product_Category_3 values are masked\n",
    "- No information about stores\n",
    "- Few information related to products which are product id and the product that falls under different product category\n",
    "- We have some information related to the Customer such as Age,Gender,Occupation and Maritial_status\n"
   ]
  },
  {
   "cell_type": "markdown",
   "metadata": {},
   "source": [
    "#### Assumptions\n",
    "- We make some assumptions before start,We'll analyse the given features that influence amount spend by customer\n",
    "- <b>Occupation</b> - People with higher income spend more \n",
    "- <b>Marital_Status</b> - People who are single spend more\n",
    "- <b>City_Category</b> - People from urban city or top tier city spend more because of their higher income level\n",
    "- <b>Age</b> - People who are below 30 years spend more on gadgets and other electronics stuff"
   ]
  },
  {
   "cell_type": "code",
   "execution_count": 5,
   "metadata": {},
   "outputs": [
    {
     "name": "stdout",
     "output_type": "stream",
     "text": [
      "Skewness : 0.6001400037087128\n",
      "Kurtosis : -0.3383775655851702\n"
     ]
    },
    {
     "data": {
      "image/png": "[encoded data removed]",
      "text/plain": [
       "<Figure size 432x288 with 1 Axes>"
      ]
     },
     "metadata": {
      "needs_background": "light"
     },
     "output_type": "display_data"
    }
   ],
   "source": [
    "sns.distplot(train['Purchase'])\n",
    "print(\"Skewness : {}\".format(train['Purchase'].skew()))\n",
    "print(\"Kurtosis : {}\".format(train.Purchase.kurt()))"
   ]
  },
  {
   "cell_type": "code",
   "execution_count": 6,
   "metadata": {},
   "outputs": [],
   "source": [
    "# The distribution is moderately skewed"
   ]
  },
  {
   "cell_type": "code",
   "execution_count": 7,
   "metadata": {},
   "outputs": [
    {
     "name": "stdout",
     "output_type": "stream",
     "text": [
      "count    550068.000000\n",
      "mean       9263.968713\n",
      "std        5023.065394\n",
      "min          12.000000\n",
      "25%        5823.000000\n",
      "50%        8047.000000\n",
      "75%       12054.000000\n",
      "max       23961.000000\n",
      "Name: Purchase, dtype: float64\n",
      "101\n",
      "3\n"
     ]
    }
   ],
   "source": [
    "print(train['Purchase'].describe())\n",
    "print(train[train['Purchase'] == train['Purchase'].min()].shape[0])\n",
    "print(train[train['Purchase'] == train['Purchase'].max()].shape[0])"
   ]
  },
  {
   "cell_type": "markdown",
   "metadata": {},
   "source": [
    "Observations : \n",
    "* Minimum price of the Item is 12 and max to 23961.\n",
    "* Median value (8047) is lower than mean value (9263) \n",
    "\n"
   ]
  },
  {
   "cell_type": "markdown",
   "metadata": {},
   "source": [
    "### Data Cleaning"
   ]
  },
  {
   "cell_type": "code",
   "execution_count": 8,
   "metadata": {},
   "outputs": [
    {
     "data": {
      "text/plain": [
       "User_ID                            0\n",
       "Product_ID                         0\n",
       "Gender                             0\n",
       "Age                                0\n",
       "Occupation                         0\n",
       "City_Category                      0\n",
       "Stay_In_Current_City_Years         0\n",
       "Marital_Status                     0\n",
       "Product_Category_1                 0\n",
       "Product_Category_2            173638\n",
       "Product_Category_3            383247\n",
       "Purchase                           0\n",
       "dtype: int64"
      ]
     },
     "execution_count": 8,
     "metadata": {},
     "output_type": "execute_result"
    }
   ],
   "source": [
    "train.isnull().sum()"
   ]
  },
  {
   "cell_type": "code",
   "execution_count": 9,
   "metadata": {},
   "outputs": [
    {
     "data": {
      "text/plain": [
       "User_ID                            0\n",
       "Product_ID                         0\n",
       "Gender                             0\n",
       "Age                                0\n",
       "Occupation                         0\n",
       "City_Category                      0\n",
       "Stay_In_Current_City_Years         0\n",
       "Marital_Status                     0\n",
       "Product_Category_1                 0\n",
       "Product_Category_2             72344\n",
       "Product_Category_3            162562\n",
       "dtype: int64"
      ]
     },
     "execution_count": 9,
     "metadata": {},
     "output_type": "execute_result"
    }
   ],
   "source": [
    "test.isnull().sum()"
   ]
  },
  {
   "cell_type": "code",
   "execution_count": 10,
   "metadata": {},
   "outputs": [
    {
     "data": {
      "text/plain": [
       "P00255842    1383\n",
       "P00278642    1226\n",
       "P00031042    1200\n",
       "P00258742     964\n",
       "P00110542     958\n",
       "             ... \n",
       "P00300742       1\n",
       "P00365942       1\n",
       "P00081642       1\n",
       "P00066342       1\n",
       "P00077242       1\n",
       "Name: Product_ID, Length: 1828, dtype: int64"
      ]
     },
     "execution_count": 10,
     "metadata": {},
     "output_type": "execute_result"
    }
   ],
   "source": [
    "# Let's analyse the missing value\n",
    "# Only this predictors Product_Category_2 & Product_Category_3 has missing values this might be due to that products did not fall under these two categories\n",
    "train[train['Product_Category_2'].isnull()]['Product_ID'].value_counts()"
   ]
  },
  {
   "cell_type": "code",
   "execution_count": 11,
   "metadata": {},
   "outputs": [
    {
     "name": "stdout",
     "output_type": "stream",
     "text": [
      "NaN    1383\n",
      "Name: Product_Category_2, dtype: int64\n",
      "NaN    1226\n",
      "Name: Product_Category_2, dtype: int64\n"
     ]
    }
   ],
   "source": [
    "# We analyse firt two top products\n",
    "print(train[train['Product_ID']=='P00255842']['Product_Category_2'].value_counts(dropna=False))\n",
    "print(train[train['Product_ID']=='P00278642']['Product_Category_2'].value_counts(dropna=False))"
   ]
  },
  {
   "cell_type": "code",
   "execution_count": 12,
   "metadata": {},
   "outputs": [
    {
     "data": {
      "text/plain": [
       "P00265242    1880\n",
       "P00058042    1422\n",
       "P00255842    1383\n",
       "P00117942    1364\n",
       "P00110942    1360\n",
       "             ... \n",
       "P00077542       1\n",
       "P00312542       1\n",
       "P00135942       1\n",
       "P00329842       1\n",
       "P00364342       1\n",
       "Name: Product_ID, Length: 3103, dtype: int64"
      ]
     },
     "execution_count": 12,
     "metadata": {},
     "output_type": "execute_result"
    }
   ],
   "source": [
    "train[train['Product_Category_3'].isnull()]['Product_ID'].value_counts()"
   ]
  },
  {
   "cell_type": "code",
   "execution_count": 13,
   "metadata": {},
   "outputs": [
    {
     "name": "stdout",
     "output_type": "stream",
     "text": [
      "NaN    1880\n",
      "Name: Product_Category_3, dtype: int64\n",
      "NaN    1422\n",
      "Name: Product_Category_3, dtype: int64\n"
     ]
    }
   ],
   "source": [
    "# We analyse firt two top products\n",
    "print(train[train['Product_ID']=='P00265242']['Product_Category_3'].value_counts(dropna=False))\n",
    "print(train[train['Product_ID']=='P00058042']['Product_Category_3'].value_counts(dropna=False))"
   ]
  },
  {
   "cell_type": "code",
   "execution_count": 14,
   "metadata": {},
   "outputs": [],
   "source": [
    "# Our guess is correct that product doesn't fall under these categories, so it is safe to fill 0\n",
    "train['Product_Category_2'].fillna(0,inplace=True)\n",
    "test['Product_Category_2'].fillna(0,inplace=True)\n",
    "train['Product_Category_3'].fillna(0,inplace=True)\n",
    "test['Product_Category_3'].fillna(0,inplace=True)"
   ]
  },
  {
   "cell_type": "code",
   "execution_count": 15,
   "metadata": {},
   "outputs": [],
   "source": [
    "# we remove '+' character\n",
    "train['Stay_In_Current_City_Years'] = train['Stay_In_Current_City_Years'].replace(\"4+\",\"4\")\n",
    "test['Stay_In_Current_City_Years'] = test['Stay_In_Current_City_Years'].replace(\"4+\",\"4\")\n",
    "\n",
    "train['Age'] = train['Age'].replace('55+','56-100')\n",
    "test['Age'] = test['Age'].replace('55+','56-100')"
   ]
  },
  {
   "cell_type": "markdown",
   "metadata": {},
   "source": [
    "#### Feature Transformation"
   ]
  },
  {
   "cell_type": "code",
   "execution_count": 16,
   "metadata": {},
   "outputs": [],
   "source": [
    "# Product ID has so many unique values that won't help us but there is a pattern on product formation. We will split first 4 \n",
    "# characters this might be some sellers name or for some identification they kept on it"
   ]
  },
  {
   "cell_type": "code",
   "execution_count": 17,
   "metadata": {},
   "outputs": [],
   "source": [
    "train['Product_Name'] = train['Product_ID'].str.slice(0,4)\n",
    "test['Product_Name'] = test['Product_ID'].str.slice(0,4)"
   ]
  },
  {
   "cell_type": "code",
   "execution_count": 18,
   "metadata": {},
   "outputs": [
    {
     "data": {
      "text/plain": [
       "<matplotlib.axes._subplots.AxesSubplot at 0x7f2b5c59bc88>"
      ]
     },
     "execution_count": 18,
     "metadata": {},
     "output_type": "execute_result"
    },
    {
     "data": {
      "image/png": "[encoded data removed]",
      "text/plain": [
       "<Figure size 432x288 with 1 Axes>"
      ]
     },
     "metadata": {
      "needs_background": "light"
     },
     "output_type": "display_data"
    }
   ],
   "source": [
    "sns.countplot(train['Product_Name'])"
   ]
  },
  {
   "cell_type": "code",
   "execution_count": 19,
   "metadata": {},
   "outputs": [
    {
     "data": {
      "text/html": [
       "<div>\n",
       "<style scoped>\n",
       "    .dataframe tbody tr th:only-of-type {\n",
       "        vertical-align: middle;\n",
       "    }\n",
       "\n",
       "    .dataframe tbody tr th {\n",
       "        vertical-align: top;\n",
       "    }\n",
       "\n",
       "    .dataframe thead th {\n",
       "        text-align: right;\n",
       "    }\n",
       "</style>\n",
       "<table border=\"1\" class=\"dataframe\">\n",
       "  <thead>\n",
       "    <tr style=\"text-align: right;\">\n",
       "      <th></th>\n",
       "      <th>count</th>\n",
       "      <th>mean</th>\n",
       "      <th>std</th>\n",
       "      <th>min</th>\n",
       "      <th>25%</th>\n",
       "      <th>50%</th>\n",
       "      <th>75%</th>\n",
       "      <th>max</th>\n",
       "    </tr>\n",
       "    <tr>\n",
       "      <th>Product_Name</th>\n",
       "      <th></th>\n",
       "      <th></th>\n",
       "      <th></th>\n",
       "      <th></th>\n",
       "      <th></th>\n",
       "      <th></th>\n",
       "      <th></th>\n",
       "      <th></th>\n",
       "    </tr>\n",
       "  </thead>\n",
       "  <tbody>\n",
       "    <tr>\n",
       "      <th>P001</th>\n",
       "      <td>186026.0</td>\n",
       "      <td>9813.428924</td>\n",
       "      <td>5185.066921</td>\n",
       "      <td>185.0</td>\n",
       "      <td>6041.0</td>\n",
       "      <td>8574.0</td>\n",
       "      <td>13291.0</td>\n",
       "      <td>23960.0</td>\n",
       "    </tr>\n",
       "    <tr>\n",
       "      <th>P002</th>\n",
       "      <td>141110.0</td>\n",
       "      <td>8872.737191</td>\n",
       "      <td>4655.924255</td>\n",
       "      <td>187.0</td>\n",
       "      <td>5434.0</td>\n",
       "      <td>7907.0</td>\n",
       "      <td>11703.0</td>\n",
       "      <td>23952.0</td>\n",
       "    </tr>\n",
       "    <tr>\n",
       "      <th>P000</th>\n",
       "      <td>132414.0</td>\n",
       "      <td>9539.443654</td>\n",
       "      <td>5152.326628</td>\n",
       "      <td>185.0</td>\n",
       "      <td>5906.0</td>\n",
       "      <td>8117.5</td>\n",
       "      <td>12306.0</td>\n",
       "      <td>23961.0</td>\n",
       "    </tr>\n",
       "    <tr>\n",
       "      <th>P003</th>\n",
       "      <td>81216.0</td>\n",
       "      <td>8321.324702</td>\n",
       "      <td>4833.137409</td>\n",
       "      <td>12.0</td>\n",
       "      <td>5263.0</td>\n",
       "      <td>7611.0</td>\n",
       "      <td>11521.0</td>\n",
       "      <td>23940.0</td>\n",
       "    </tr>\n",
       "    <tr>\n",
       "      <th>P009</th>\n",
       "      <td>9302.0</td>\n",
       "      <td>8519.379596</td>\n",
       "      <td>5093.650910</td>\n",
       "      <td>343.0</td>\n",
       "      <td>3668.5</td>\n",
       "      <td>8092.0</td>\n",
       "      <td>11971.0</td>\n",
       "      <td>21050.0</td>\n",
       "    </tr>\n",
       "  </tbody>\n",
       "</table>\n",
       "</div>"
      ],
      "text/plain": [
       "                 count         mean          std    min     25%     50%  \\\n",
       "Product_Name                                                              \n",
       "P001          186026.0  9813.428924  5185.066921  185.0  6041.0  8574.0   \n",
       "P002          141110.0  8872.737191  4655.924255  187.0  5434.0  7907.0   \n",
       "P000          132414.0  9539.443654  5152.326628  185.0  5906.0  8117.5   \n",
       "P003           81216.0  8321.324702  4833.137409   12.0  5263.0  7611.0   \n",
       "P009            9302.0  8519.379596  5093.650910  343.0  3668.5  8092.0   \n",
       "\n",
       "                  75%      max  \n",
       "Product_Name                    \n",
       "P001          13291.0  23960.0  \n",
       "P002          11703.0  23952.0  \n",
       "P000          12306.0  23961.0  \n",
       "P003          11521.0  23940.0  \n",
       "P009          11971.0  21050.0  "
      ]
     },
     "execution_count": 19,
     "metadata": {},
     "output_type": "execute_result"
    }
   ],
   "source": [
    "train.groupby('Product_Name')['Purchase'].describe().sort_values('count',ascending=False)"
   ]
  },
  {
   "cell_type": "markdown",
   "metadata": {},
   "source": [
    "#### Feature Creation"
   ]
  },
  {
   "cell_type": "markdown",
   "metadata": {},
   "source": [
    "##### We'll check purchase of the items based on the available category. My assumption is that if an item available in all the category, there are very high chances that the item is more visible to the user. Let's analys this fact"
   ]
  },
  {
   "cell_type": "code",
   "execution_count": 20,
   "metadata": {},
   "outputs": [
    {
     "name": "stdout",
     "output_type": "stream",
     "text": [
      "Total no. of Sold Items in Product_Category_1 173638\n",
      "Mean value 7518.695389258111\n",
      "Median value 7075.0\n"
     ]
    }
   ],
   "source": [
    "# Items which are only fall under Product_Category_1 list\n",
    "pd_cat_1_purchase = train[(train['Product_Category_2'] == 0) & (train['Product_Category_3']==0)]['Purchase']\n",
    "print(\"Total no. of Sold Items in Product_Category_1 {}\".format(pd_cat_1_purchase.shape[0]))\n",
    "print(\"Mean value {}\".format(pd_cat_1_purchase.mean()))\n",
    "print(\"Median value {}\".format(pd_cat_1_purchase.median()))\n",
    "\n"
   ]
  },
  {
   "cell_type": "code",
   "execution_count": 21,
   "metadata": {},
   "outputs": [
    {
     "name": "stdout",
     "output_type": "stream",
     "text": [
      "Total no. of Sold Items in Product_Category_1 & any one of the other two category 209609\n",
      "Mean value is 8804.312376854048\n",
      "Median value is 7878.0\n"
     ]
    }
   ],
   "source": [
    "# Items which are available in any two category\n",
    "pd_cat_2_purchase = train[np.logical_xor(train['Product_Category_2'],train['Product_Category_3'])]['Purchase']\n",
    "print(\"Total no. of Sold Items in Product_Category_1 & any one of the other two category {}\".format(pd_cat_2_purchase.shape[0]))\n",
    "print(\"Mean value is {}\".format(pd_cat_2_purchase.mean()))\n",
    "print(\"Median value is {}\".format(pd_cat_2_purchase.median()))"
   ]
  },
  {
   "cell_type": "code",
   "execution_count": 22,
   "metadata": {},
   "outputs": [
    {
     "name": "stdout",
     "output_type": "stream",
     "text": [
      "Total no. of Sold Items in all Category 166821\n",
      "Mean value is 11658.114979528957\n",
      "Median value is 11756.0\n"
     ]
    }
   ],
   "source": [
    "# Items which are available in all category\n",
    "pd_cat_all_purchase = train[(train['Product_Category_2'] != 0) & (train['Product_Category_3']!=0)]['Purchase']\n",
    "print(\"Total no. of Sold Items in all Category {}\".format(pd_cat_all_purchase.shape[0]))\n",
    "print(\"Mean value is {}\".format(pd_cat_all_purchase.mean()))\n",
    "print(\"Median value is {}\".format(pd_cat_all_purchase.median()))"
   ]
  },
  {
   "cell_type": "markdown",
   "metadata": {},
   "source": [
    "you can see that in all category split where the median is greater than mean. That means most of the richer people purchased the product which comes falls all category. So We'll create a new feature for category split and assign a weight to that. "
   ]
  },
  {
   "cell_type": "code",
   "execution_count": 23,
   "metadata": {},
   "outputs": [],
   "source": [
    "train['Category_Weight'] = 0\n",
    "train.loc[pd_cat_1_purchase.index,'Category_Weight'] = 1\n",
    "train.loc[pd_cat_2_purchase.index,'Category_Weight'] = 2\n",
    "train.loc[pd_cat_all_purchase.index,'Category_Weight'] = 3\n"
   ]
  },
  {
   "cell_type": "code",
   "execution_count": 24,
   "metadata": {},
   "outputs": [],
   "source": [
    "# Each user has purchased atleast 6 items.\n",
    "# Based on the count  we'll create a new variable called Frequent_Buyers which holds 1 for Users who purchased more than 100 items\n",
    "# and 0 for less than 100 items"
   ]
  },
  {
   "cell_type": "code",
   "execution_count": 25,
   "metadata": {},
   "outputs": [],
   "source": [
    "train['Frequent_Buyers'] = train.groupby('User_ID')['User_ID'].transform(lambda x : 1 if x.count() > 100 else 0)\n",
    "test['Frequent_Buyers'] = test.groupby('User_ID')['User_ID'].transform(lambda x : 1 if x.count() > 100 else 0)"
   ]
  },
  {
   "cell_type": "code",
   "execution_count": 26,
   "metadata": {},
   "outputs": [],
   "source": [
    "train.drop(['Product_ID','User_ID'],inplace=True,axis=1)\n",
    "test.drop(['Product_ID','User_ID'],inplace=True,axis=1)"
   ]
  },
  {
   "cell_type": "code",
   "execution_count": 27,
   "metadata": {},
   "outputs": [
    {
     "data": {
      "text/plain": [
       "26-35     219587\n",
       "36-45     110013\n",
       "18-25      99660\n",
       "46-50      45701\n",
       "51-55      38501\n",
       "56-100     21504\n",
       "0-17       15102\n",
       "Name: Age, dtype: int64"
      ]
     },
     "execution_count": 27,
     "metadata": {},
     "output_type": "execute_result"
    }
   ],
   "source": [
    "train['Age'].value_counts()"
   ]
  },
  {
   "cell_type": "code",
   "execution_count": 28,
   "metadata": {},
   "outputs": [
    {
     "data": {
      "text/plain": [
       "<matplotlib.axes._subplots.AxesSubplot at 0x7f2b600dc358>"
      ]
     },
     "execution_count": 28,
     "metadata": {},
     "output_type": "execute_result"
    },
    {
     "data": {
      "image/png": "[encoded data removed]",
      "text/plain": [
       "<Figure size 432x288 with 1 Axes>"
      ]
     },
     "metadata": {
      "needs_background": "light"
     },
     "output_type": "display_data"
    }
   ],
   "source": [
    "sns.barplot(train['Age'],train['Age'].value_counts().values)"
   ]
  },
  {
   "cell_type": "markdown",
   "metadata": {},
   "source": [
    "* teenagers or student shows more interest than other ages\n",
    "* 72% of \"0-17\" doing the same occupation(probably they are student)"
   ]
  },
  {
   "cell_type": "code",
   "execution_count": 29,
   "metadata": {},
   "outputs": [],
   "source": [
    "# We'll create a new feature for Student\n",
    "train['IsStudent'] = 1 * (train['Age']=='0-17')\n",
    "test['IsStudent'] = 1 * (test['Age']=='0-17')"
   ]
  },
  {
   "cell_type": "code",
   "execution_count": 30,
   "metadata": {},
   "outputs": [],
   "source": [
    "# Based on our income we spend more, so we'll order occupation by mean value of the purchase and we use the same order for test data also.\n",
    "order_occupation_by_purchase = train.groupby('Occupation')['Purchase'].describe().sort_values('mean',ascending=False)['mean'].index"
   ]
  },
  {
   "cell_type": "code",
   "execution_count": 31,
   "metadata": {},
   "outputs": [
    {
     "data": {
      "text/plain": [
       "0         10\n",
       "1         10\n",
       "2         10\n",
       "3         10\n",
       "4         16\n",
       "          ..\n",
       "550063    13\n",
       "550064     1\n",
       "550065    15\n",
       "550066     1\n",
       "550067     0\n",
       "Name: Occupation, Length: 550068, dtype: int64"
      ]
     },
     "execution_count": 31,
     "metadata": {},
     "output_type": "execute_result"
    }
   ],
   "source": [
    "train['Occupation']"
   ]
  },
  {
   "cell_type": "code",
   "execution_count": 32,
   "metadata": {},
   "outputs": [
    {
     "data": {
      "text/plain": [
       "{17: 0,\n",
       " 12: 1,\n",
       " 15: 2,\n",
       " 8: 3,\n",
       " 14: 4,\n",
       " 7: 5,\n",
       " 16: 6,\n",
       " 5: 7,\n",
       " 13: 8,\n",
       " 6: 9,\n",
       " 4: 10,\n",
       " 11: 11,\n",
       " 3: 12,\n",
       " 18: 13,\n",
       " 0: 14,\n",
       " 10: 15,\n",
       " 1: 16,\n",
       " 2: 17,\n",
       " 20: 18,\n",
       " 19: 19,\n",
       " 9: 20}"
      ]
     },
     "execution_count": 32,
     "metadata": {},
     "output_type": "execute_result"
    }
   ],
   "source": [
    "map_occupation = {k: v for v, k in enumerate(order_occupation_by_purchase)}\n",
    "map_occupation"
   ]
  },
  {
   "cell_type": "code",
   "execution_count": 33,
   "metadata": {},
   "outputs": [],
   "source": [
    "train['Occupation'] = train['Occupation'].apply(lambda x: map_occupation[x])\n",
    "test['Occupation'] = test['Occupation'].apply(lambda x: map_occupation[x])"
   ]
  },
  {
   "cell_type": "markdown",
   "metadata": {},
   "source": [
    "#### Extraordinary Data Analysis"
   ]
  },
  {
   "cell_type": "code",
   "execution_count": 34,
   "metadata": {},
   "outputs": [],
   "source": [
    "corrIndex = train.corr().nlargest(10,'Purchase')['Purchase'].index\n",
    "corr = train[corrIndex].corr()"
   ]
  },
  {
   "cell_type": "code",
   "execution_count": 35,
   "metadata": {},
   "outputs": [
    {
     "data": {
      "image/png": "[encoded data removed]",
      "text/plain": [
       "<Figure size 1152x576 with 2 Axes>"
      ]
     },
     "metadata": {
      "needs_background": "light"
     },
     "output_type": "display_data"
    }
   ],
   "source": [
    "plt.figure(figsize=(16,8))\n",
    "ax = sns.heatmap(corr,annot=True,cmap=\"YlGnBu\")\n",
    "bottom, top = ax.get_ylim()\n",
    "ax.set_ylim(bottom + 0.5, top - 0.5)\n",
    "plt.show()"
   ]
  },
  {
   "cell_type": "code",
   "execution_count": 36,
   "metadata": {},
   "outputs": [],
   "source": [
    "# There is no satisifactory correlation feature so we will avoid using Linear model."
   ]
  },
  {
   "cell_type": "code",
   "execution_count": 37,
   "metadata": {},
   "outputs": [
    {
     "data": {
      "text/plain": [
       "<matplotlib.axes._subplots.AxesSubplot at 0x7f2b607a8908>"
      ]
     },
     "execution_count": 37,
     "metadata": {},
     "output_type": "execute_result"
    },
    {
     "data": {
      "image/png": "[encoded data removed]",
      "text/plain": [
       "<Figure size 720x432 with 2 Axes>"
      ]
     },
     "metadata": {
      "needs_background": "light"
     },
     "output_type": "display_data"
    }
   ],
   "source": [
    "f,ax = plt.subplots(1,2,figsize=(10,6))\n",
    "sns.countplot(train['Gender'],ax=ax[0])\n",
    "sns.barplot('Gender','Purchase',data=train,ax=ax[1])"
   ]
  },
  {
   "cell_type": "markdown",
   "metadata": {},
   "source": [
    "Men was the most shown interest on black friday sales. On plot 2, Eventhough women are less in count but they spent almost equal money spent by men"
   ]
  },
  {
   "cell_type": "code",
   "execution_count": 38,
   "metadata": {},
   "outputs": [
    {
     "data": {
      "text/plain": [
       "<matplotlib.axes._subplots.AxesSubplot at 0x7f2b606d1cf8>"
      ]
     },
     "execution_count": 38,
     "metadata": {},
     "output_type": "execute_result"
    },
    {
     "data": {
      "image/png": "[encoded data removed]",
      "text/plain": [
       "<Figure size 720x432 with 2 Axes>"
      ]
     },
     "metadata": {
      "needs_background": "light"
     },
     "output_type": "display_data"
    }
   ],
   "source": [
    "f,ax = plt.subplots(1,2,figsize=(10,6))\n",
    "sns.countplot(train['City_Category'],ax=ax[0])\n",
    "sns.barplot('City_Category','Purchase',data=train,ax=ax[1])\n"
   ]
  },
  {
   "cell_type": "code",
   "execution_count": 39,
   "metadata": {},
   "outputs": [],
   "source": [
    "# Customer from city B has purchased more items.\n",
    "# Customer from city C has spent higher Amount Eventhough B has purchased more items."
   ]
  }
 ],
 "metadata": {
  "kernelspec": {
   "display_name": "Python 3",
   "language": "python",
   "name": "python3"
  },
  "language_info": {
   "codemirror_mode": {
    "name": "ipython",
    "version": 3
   },
   "file_extension": ".py",
   "mimetype": "text/x-python",
   "name": "python",
   "nbconvert_exporter": "python",
   "pygments_lexer": "ipython3",
   "version": "3.6.5"
  }
 },
 "nbformat": 4,
 "nbformat_minor": 1
}

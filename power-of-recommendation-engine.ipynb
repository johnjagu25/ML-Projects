{
 "cells": [
  {
   "cell_type": "markdown",
   "metadata": {},
   "source": [
    "### Power of Recommendation Engine\n",
    "\n",
    "&nbsp;&nbsp;&nbsp;&nbsp;&nbsp;&nbsp;&nbsp;&nbsp;&nbsp;&nbsp;&nbsp;&nbsp;Suppose You're planning to buy a laptop without any idea about the right configuration. So You would check with Your friends and colleagues for recommendation and they suggests laptops based on Your requirement , their knowledge and trending one. The same way Recommendation engine works. For instance, Amazon recommends You a laptop based on Your previous search , popularity and keeps on showing the best recommendation and tempt You to buy a laptop even if You drop the plan. All the major company has recommendation in their products such as Youtube shows recommendations based on Your interests and activity.\n",
    "\n",
    "We'll explore how to implement it, before that there are two types of Recommendation Engine\n",
    "\n",
    "1. **Content Based Filtering**\n",
    "2. **Collabarative Based Filtering**\n",
    "\n",
    "#### Content Based Filtering\n",
    "This algorithm recommends products which are similar to the ones that a user has liked in the past.\n",
    "\n",
    "#### Collabaratvie Based Filtering\n",
    "The collaborative filtering algorithm uses “User Behavior” for recommending items."
   ]
  },
  {
   "cell_type": "markdown",
   "metadata": {},
   "source": [
    "*In this Kernel, we shall look at Content Based Filtering implementation*"
   ]
  },
  {
   "cell_type": "markdown",
   "metadata": {},
   "source": [
    "**Our task is When User search a movie, We'll recommend the top 10 similar movies**"
   ]
  },
  {
   "cell_type": "markdown",
   "metadata": {},
   "source": [
    "Implementation is so simple, We're going to combine tags,keywords,genre and create a bulk of keywords for each movie from the multiple given datasets and find similarity between each movie and popup the top similar movies"
   ]
  },
  {
   "cell_type": "code",
   "execution_count": 1,
   "metadata": {},
   "outputs": [],
   "source": [
    "import pandas as pd\n",
    "import numpy as np\n",
    "from sklearn.metrics.pairwise import cosine_similarity\n",
    "from sklearn.feature_extraction.text import TfidfVectorizer"
   ]
  },
  {
   "cell_type": "code",
   "execution_count": 2,
   "metadata": {
    "_cell_guid": "b1076dfc-b9ad-4769-8c92-a6c4dae69d19",
    "_uuid": "8f2839f25d086af736a60e9eeb907d3b93b6e0e5"
   },
   "outputs": [],
   "source": [
    "import os\n",
    "os.listdir(\"../input/movielens-20m-dataset\")\n",
    "os.chdir(\"../input/movielens-20m-dataset/\")"
   ]
  },
  {
   "cell_type": "code",
   "execution_count": 3,
   "metadata": {},
   "outputs": [],
   "source": [
    "genome_tags = pd.read_csv(\"genome_tags.csv\")\n",
    "\n",
    "# We drop this dataset, since this doesn't have any useful features for predictions\n",
    "link = pd.read_csv(\"link.csv\")\n",
    "genome_scores = pd.read_csv(\"genome_scores.csv\")\n",
    "\n",
    "# For efficiency and compatability We pick top 5000 rows\n",
    "movies = pd.read_csv(\"movie.csv\",nrows=5000)\n",
    "rating = pd.read_csv(\"rating.csv\")\n",
    "tag = pd.read_csv(\"tag.csv\")\n"
   ]
  },
  {
   "cell_type": "code",
   "execution_count": 4,
   "metadata": {},
   "outputs": [
    {
     "name": "stdout",
     "output_type": "stream",
     "text": [
      "genome_tags shape is (1128, 2)\n",
      "genome_scores shape is (11709768, 3)\n",
      "movies shape is (5000, 3)\n",
      "rating shape is (20000263, 4)\n",
      "tag shape is (465564, 4)\n"
     ]
    }
   ],
   "source": [
    "# Dataset shape\n",
    "print(\"genome_tags shape is {}\".format(genome_tags.shape))\n",
    "print(\"genome_scores shape is {}\".format(genome_scores.shape))\n",
    "print(\"movies shape is {}\".format(movies.shape))\n",
    "print(\"rating shape is {}\".format(rating.shape))\n",
    "print(\"tag shape is {}\".format(tag.shape))"
   ]
  },
  {
   "cell_type": "code",
   "execution_count": 5,
   "metadata": {},
   "outputs": [
    {
     "name": "stdout",
     "output_type": "stream",
     "text": [
      "Index(['movieId', 'tagId', 'relevance'], dtype='object')\n",
      "Index(['movieId', 'title', 'genres'], dtype='object')\n",
      "Index(['userId', 'movieId', 'rating', 'timestamp'], dtype='object')\n",
      "Index(['userId', 'movieId', 'tag', 'timestamp'], dtype='object')\n"
     ]
    }
   ],
   "source": [
    "print(genome_scores.columns)\n",
    "print(movies.columns)\n",
    "print(rating.columns)\n",
    "print(tag.columns)"
   ]
  },
  {
   "cell_type": "markdown",
   "metadata": {},
   "source": [
    "movieId feature is common in all dataset, using that we'll combine all the dataset into final_dataset"
   ]
  },
  {
   "cell_type": "code",
   "execution_count": 6,
   "metadata": {},
   "outputs": [],
   "source": [
    "# genome_scores dataset has relevance feature which says that how much a tag is relevant to the movie and\n",
    "# it's value range from 0 to 1, we'll consider only the value which has more than 0.5 relevance. So this gives better \n",
    "# predicrion. And We'll merge the tag with genome_scores dataset.\n",
    "genome_scores = genome_scores[genome_scores['relevance']> 0.5].merge(genome_tags,on='tagId',how='left') \n",
    "\n",
    "# concatenating all the tag that belongs to a movie and forming a tag collection for each movie\n",
    "genome_scores = genome_scores.groupby('movieId')['tag'].apply(' '.join).reset_index()"
   ]
  },
  {
   "cell_type": "code",
   "execution_count": 7,
   "metadata": {},
   "outputs": [],
   "source": [
    "final_dataset = pd.merge(movies,genome_scores,on='movieId',how='left')"
   ]
  },
  {
   "cell_type": "code",
   "execution_count": 8,
   "metadata": {},
   "outputs": [],
   "source": [
    "# renaming tag as keywords\n",
    "tag = tag.rename(columns = {\"tag\":\"keywords\"})\n",
    "tag['keywords'].fillna('',inplace=True)\n",
    "tag = tag.groupby('movieId')['keywords'].apply(' '.join).reset_index()"
   ]
  },
  {
   "cell_type": "code",
   "execution_count": 9,
   "metadata": {},
   "outputs": [],
   "source": [
    "final_dataset = pd.merge(final_dataset,tag,on='movieId',how='left')"
   ]
  },
  {
   "cell_type": "code",
   "execution_count": 10,
   "metadata": {},
   "outputs": [
    {
     "data": {
      "text/plain": [
       "0    Adventure|Animation|Children|Comedy|Fantasy\n",
       "1                     Adventure|Children|Fantasy\n",
       "2                                 Comedy|Romance\n",
       "3                           Comedy|Drama|Romance\n",
       "4                                         Comedy\n",
       "Name: genres, dtype: object"
      ]
     },
     "execution_count": 10,
     "metadata": {},
     "output_type": "execute_result"
    }
   ],
   "source": [
    "final_dataset['genres'].head()"
   ]
  },
  {
   "cell_type": "code",
   "execution_count": 11,
   "metadata": {},
   "outputs": [],
   "source": [
    "final_dataset['keywords'] = final_dataset['keywords'] + \" \" +final_dataset['tag'] +  \" \" + \\\n",
    "    final_dataset['genres'].str.replace(\"|\",\" \")\n",
    "final_dataset['keywords'].fillna(\"\",inplace=True)"
   ]
  },
  {
   "cell_type": "code",
   "execution_count": 12,
   "metadata": {},
   "outputs": [],
   "source": [
    "# rating will be used for collabarative filtering, so we'll skip this now\n",
    "# final_dataset = pd.merge(final_dataset,rating,on='movieId',how='left')"
   ]
  },
  {
   "cell_type": "code",
   "execution_count": 13,
   "metadata": {},
   "outputs": [],
   "source": [
    "# Both tag and genres values has added to keywords so we drop this \n",
    "final_dataset.drop(['tag','genres'],inplace=True,axis=1)"
   ]
  },
  {
   "cell_type": "markdown",
   "metadata": {},
   "source": [
    "All keywords are in english. Our model can understand only numbers so We'll convert the keywords into sparse matrix form using either CountVectorizer or TfidfVectorizer. CountVectorizer just counts the words appear, there is a high chances that missing the rare words which could have helped for predicting the model effectively. So We'll use TfidfVectorizer which counts the frequency of the words and normalize them and this is mostly recommended."
   ]
  },
  {
   "cell_type": "code",
   "execution_count": 14,
   "metadata": {},
   "outputs": [],
   "source": [
    "# stop words will remove the common english words like a,an,the,i,me,my etc which increase the words count and \n",
    "# create noise in our model \n",
    "\n",
    "c_vect = TfidfVectorizer()\n",
    "X = c_vect.fit_transform(final_dataset['keywords'])"
   ]
  },
  {
   "cell_type": "code",
   "execution_count": 15,
   "metadata": {},
   "outputs": [],
   "source": [
    "# There are other similiary distance metric available which are euclidean distance,manhattan distance, \n",
    "# Pearson coefficient etc. But for sparse matrix cosine similarity works better\n",
    "cosine_sim = cosine_similarity(X)"
   ]
  },
  {
   "cell_type": "code",
   "execution_count": 16,
   "metadata": {},
   "outputs": [],
   "source": [
    "def get_movie_recommendation(movie_name):\n",
    "    idx = final_dataset[final_dataset['title'].str.contains(movie_name)].index\n",
    "    if len(idx):\n",
    "        movie_indices = sorted(list(enumerate(cosine_sim[idx[0]])), key=lambda x: x[1], reverse=True)[1:11]\n",
    "        movie_indices = [i[0] for i in movie_indices]\n",
    "        return movie_indices\n",
    "    else : \n",
    "        return []"
   ]
  },
  {
   "cell_type": "code",
   "execution_count": 17,
   "metadata": {},
   "outputs": [
    {
     "data": {
      "text/html": [
       "<div>\n",
       "<style scoped>\n",
       "    .dataframe tbody tr th:only-of-type {\n",
       "        vertical-align: middle;\n",
       "    }\n",
       "\n",
       "    .dataframe tbody tr th {\n",
       "        vertical-align: top;\n",
       "    }\n",
       "\n",
       "    .dataframe thead th {\n",
       "        text-align: right;\n",
       "    }\n",
       "</style>\n",
       "<table border=\"1\" class=\"dataframe\">\n",
       "  <thead>\n",
       "    <tr style=\"text-align: right;\">\n",
       "      <th></th>\n",
       "      <th>title</th>\n",
       "      <th>genres</th>\n",
       "    </tr>\n",
       "    <tr>\n",
       "      <th>movieId</th>\n",
       "      <th></th>\n",
       "      <th></th>\n",
       "    </tr>\n",
       "  </thead>\n",
       "  <tbody>\n",
       "    <tr>\n",
       "      <th>1</th>\n",
       "      <td>Toy Story (1995)</td>\n",
       "      <td>Adventure|Animation|Children|Comedy|Fantasy</td>\n",
       "    </tr>\n",
       "    <tr>\n",
       "      <th>2355</th>\n",
       "      <td>Bug's Life, A (1998)</td>\n",
       "      <td>Adventure|Animation|Children|Comedy</td>\n",
       "    </tr>\n",
       "    <tr>\n",
       "      <th>4886</th>\n",
       "      <td>Monsters, Inc. (2001)</td>\n",
       "      <td>Adventure|Animation|Children|Comedy|Fantasy</td>\n",
       "    </tr>\n",
       "    <tr>\n",
       "      <th>4306</th>\n",
       "      <td>Shrek (2001)</td>\n",
       "      <td>Adventure|Animation|Children|Comedy|Fantasy|Ro...</td>\n",
       "    </tr>\n",
       "    <tr>\n",
       "      <th>2294</th>\n",
       "      <td>Antz (1998)</td>\n",
       "      <td>Adventure|Animation|Children|Comedy|Fantasy</td>\n",
       "    </tr>\n",
       "    <tr>\n",
       "      <th>4990</th>\n",
       "      <td>Jimmy Neutron: Boy Genius (2001)</td>\n",
       "      <td>Adventure|Animation|Children|Comedy</td>\n",
       "    </tr>\n",
       "    <tr>\n",
       "      <th>596</th>\n",
       "      <td>Pinocchio (1940)</td>\n",
       "      <td>Animation|Children|Fantasy|Musical</td>\n",
       "    </tr>\n",
       "    <tr>\n",
       "      <th>595</th>\n",
       "      <td>Beauty and the Beast (1991)</td>\n",
       "      <td>Animation|Children|Fantasy|Musical|Romance|IMAX</td>\n",
       "    </tr>\n",
       "    <tr>\n",
       "      <th>364</th>\n",
       "      <td>Lion King, The (1994)</td>\n",
       "      <td>Adventure|Animation|Children|Drama|Musical|IMAX</td>\n",
       "    </tr>\n",
       "    <tr>\n",
       "      <th>2081</th>\n",
       "      <td>Little Mermaid, The (1989)</td>\n",
       "      <td>Animation|Children|Comedy|Musical|Romance</td>\n",
       "    </tr>\n",
       "  </tbody>\n",
       "</table>\n",
       "</div>"
      ],
      "text/plain": [
       "                                    title  \\\n",
       "movieId                                     \n",
       "1                        Toy Story (1995)   \n",
       "2355                 Bug's Life, A (1998)   \n",
       "4886                Monsters, Inc. (2001)   \n",
       "4306                         Shrek (2001)   \n",
       "2294                          Antz (1998)   \n",
       "4990     Jimmy Neutron: Boy Genius (2001)   \n",
       "596                      Pinocchio (1940)   \n",
       "595           Beauty and the Beast (1991)   \n",
       "364                 Lion King, The (1994)   \n",
       "2081           Little Mermaid, The (1989)   \n",
       "\n",
       "                                                    genres  \n",
       "movieId                                                     \n",
       "1              Adventure|Animation|Children|Comedy|Fantasy  \n",
       "2355                   Adventure|Animation|Children|Comedy  \n",
       "4886           Adventure|Animation|Children|Comedy|Fantasy  \n",
       "4306     Adventure|Animation|Children|Comedy|Fantasy|Ro...  \n",
       "2294           Adventure|Animation|Children|Comedy|Fantasy  \n",
       "4990                   Adventure|Animation|Children|Comedy  \n",
       "596                     Animation|Children|Fantasy|Musical  \n",
       "595        Animation|Children|Fantasy|Musical|Romance|IMAX  \n",
       "364        Adventure|Animation|Children|Drama|Musical|IMAX  \n",
       "2081             Animation|Children|Comedy|Musical|Romance  "
      ]
     },
     "execution_count": 17,
     "metadata": {},
     "output_type": "execute_result"
    }
   ],
   "source": [
    "title = \"Toy Story 2\"\n",
    "recommended_movie_list = get_movie_recommendation(title)\n",
    "movies.iloc[recommended_movie_list].set_index('movieId')"
   ]
  },
  {
   "cell_type": "markdown",
   "metadata": {},
   "source": [
    "Our system predicts exactly the similar movies of Toy story\n",
    "\n",
    "Major drawback of this approach is that it predicts the same lists of movie for all the user who search Toy story irrespective of their interest and their likes. So we need an algorithm to predict based on User behaviour for that We'll use collabrative filtering."
   ]
  },
  {
   "cell_type": "markdown",
   "metadata": {},
   "source": [
    "I'm writing my other kernel for collabarative filtering. Will update once it is completed.\n",
    "\n",
    "**Please upvote it if you like it. Thanks**"
   ]
  }
 ],
 "metadata": {
  "kernelspec": {
   "display_name": "Python 3",
   "language": "python",
   "name": "python3"
  },
  "language_info": {
   "codemirror_mode": {
    "name": "ipython",
    "version": 3
   },
   "file_extension": ".py",
   "mimetype": "text/x-python",
   "name": "python",
   "nbconvert_exporter": "python",
   "pygments_lexer": "ipython3",
   "version": "3.6.5"
  }
 },
 "nbformat": 4,
 "nbformat_minor": 1
}
